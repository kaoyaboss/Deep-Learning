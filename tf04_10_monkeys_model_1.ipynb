{
  "nbformat": 4,
  "nbformat_minor": 0,
  "metadata": {
    "kernelspec": {
      "display_name": "Python 3",
      "language": "python",
      "name": "python3"
    },
    "language_info": {
      "codemirror_mode": {
        "name": "ipython",
        "version": 3
      },
      "file_extension": ".py",
      "mimetype": "text/x-python",
      "name": "python",
      "nbconvert_exporter": "python",
      "pygments_lexer": "ipython3",
      "version": "3.6.9"
    },
    "colab": {
      "name": "tf04_10_monkeys_model_1.ipynb",
      "private_outputs": true,
      "provenance": [],
      "collapsed_sections": [],
      "include_colab_link": true
    },
    "accelerator": "GPU"
  },
  "cells": [
    {
      "cell_type": "markdown",
      "metadata": {
        "id": "view-in-github",
        "colab_type": "text"
      },
      "source": [
        "<a href=\"https://colab.research.google.com/github/kaoyaboss/Deep-Learning/blob/main/tf04_10_monkeys_model_1.ipynb\" target=\"_parent\"><img src=\"https://colab.research.google.com/assets/colab-badge.svg\" alt=\"Open In Colab\"/></a>"
      ]
    },
    {
      "cell_type": "code",
      "metadata": {
        "_cell_guid": "b1076dfc-b9ad-4769-8c92-a6c4dae69d19",
        "_uuid": "8f2839f25d086af736a60e9eeb907d3b93b6e0e5",
        "id": "lJIKJQxyT3G6"
      },
      "source": [
        "# This Python 3 environment comes with many helpful analytics libraries installed\n",
        "# It is defined by the kaggle/python docker image: https://github.com/kaggle/docker-python\n",
        "# For example, here's several helpful packages to load in \n",
        "\n",
        "import numpy as np # linear algebra\n",
        "import pandas as pd # data processing, CSV file I/O (e.g. pd.read_csv)\n",
        "\n",
        "# Input data files are available in the \"../input/\" directory.\n",
        "# For example, running this (by clicking run or pressing Shift+Enter) will list the files in the input directory\n",
        "\n",
        "import os\n",
        "# print(os.listdir(\"../input\"))\n",
        "\n",
        "# Any results you write to the current directory are saved as output."
      ],
      "execution_count": null,
      "outputs": []
    },
    {
      "cell_type": "code",
      "metadata": {
        "id": "xBsPcRiULyR7"
      },
      "source": [
        "!python -V"
      ],
      "execution_count": null,
      "outputs": []
    },
    {
      "cell_type": "code",
      "metadata": {
        "id": "4VsN6E0iK9E9"
      },
      "source": [
        "%matplotlib inline\n",
        "import matplotlib as mpl\n",
        "import matplotlib.pyplot as plt\n",
        "import numpy as np\n",
        "import os\n",
        "import pandas as pd\n",
        "import sklearn\n",
        "import sys\n",
        "import tensorflow as tf\n",
        "import time\n",
        "\n",
        "from tensorflow import keras\n",
        "\n",
        "print(tf.__version__)\n",
        "print(sys.version_info)\n",
        "for module in mpl, np, pd, sklearn, tf, keras:\n",
        "    print(module.__name__, module.__version__)"
      ],
      "execution_count": null,
      "outputs": []
    },
    {
      "cell_type": "code",
      "metadata": {
        "id": "QZXdXdT3VH4g"
      },
      "source": [
        "!pip install kaggle"
      ],
      "execution_count": null,
      "outputs": []
    },
    {
      "cell_type": "code",
      "metadata": {
        "id": "UJAcHJ-bLfw8"
      },
      "source": [
        ""
      ],
      "execution_count": null,
      "outputs": []
    },
    {
      "cell_type": "code",
      "metadata": {
        "id": "zDGHuDrhJlgs"
      },
      "source": [
        "#去kaggle那边拿数据，需要有key\n",
        "import json\n",
        "token = {\"username\":\"yunfanlaoban\",\"key\":\"43c59de090eadd5f5c4606aaa8cf39d6\"}\n",
        "with open('/content/kaggle.json', 'w') as file:\n",
        "  json.dump(token, file)"
      ],
      "execution_count": null,
      "outputs": []
    },
    {
      "cell_type": "code",
      "metadata": {
        "id": "HjqfeLpyKaIj"
      },
      "source": [
        "!cat /content/kaggle.json"
      ],
      "execution_count": null,
      "outputs": []
    },
    {
      "cell_type": "code",
      "metadata": {
        "id": "ACxPFNQzLSSb"
      },
      "source": [
        "!ls -l ~/.kaggle"
      ],
      "execution_count": null,
      "outputs": []
    },
    {
      "cell_type": "code",
      "metadata": {
        "id": "9XA4pXB-JuVr"
      },
      "source": [
        "!mkdir -p ~/.kaggle\n",
        "!cp /content/kaggle.json ~/.kaggle/\n",
        "!chmod 600 ~/.kaggle/kaggle.json\n",
        "!kaggle config set -n path -v /content"
      ],
      "execution_count": null,
      "outputs": []
    },
    {
      "cell_type": "code",
      "metadata": {
        "id": "3ujpD-B2J0O7"
      },
      "source": [
        "!ls sample_data"
      ],
      "execution_count": null,
      "outputs": []
    },
    {
      "cell_type": "code",
      "metadata": {
        "id": "XpBWWtewKBVr"
      },
      "source": [
        "#核心就在这一步，如果这一步报错，就是前面的key没设置好，再设置一遍\n",
        "!kaggle datasets download -d slothkong/10-monkey-species"
      ],
      "execution_count": null,
      "outputs": []
    },
    {
      "cell_type": "code",
      "metadata": {
        "id": "J-bCGJRqMhW1"
      },
      "source": [
        "!ls datasets/slothkong/10-monkey-species"
      ],
      "execution_count": null,
      "outputs": []
    },
    {
      "cell_type": "code",
      "metadata": {
        "id": "BxSfAM9zMffb"
      },
      "source": [
        "!unzip -o -d /content /content/datasets/slothkong/10-monkey-species/10-monkey-species.zip"
      ],
      "execution_count": null,
      "outputs": []
    },
    {
      "cell_type": "code",
      "metadata": {
        "id": "ADiyYUNUMfST"
      },
      "source": [
        "!ls /content"
      ],
      "execution_count": null,
      "outputs": []
    },
    {
      "cell_type": "code",
      "metadata": {
        "id": "vcvlqY1aKBJa"
      },
      "source": [
        ""
      ],
      "execution_count": null,
      "outputs": []
    },
    {
      "cell_type": "markdown",
      "metadata": {
        "id": "rtc1SDCfUQ4U"
      },
      "source": [
        "# 新段落"
      ]
    },
    {
      "cell_type": "code",
      "metadata": {
        "scrolled": true,
        "id": "NJ5o-QdFT3HO"
      },
      "source": [
        "train_dir = \"./training/training\"\n",
        "valid_dir = \"./validation/validation\"\n",
        "label_file = \"./monkey_labels.txt\"\n",
        "print(os.path.exists(train_dir))\n",
        "print(os.path.exists(valid_dir))\n",
        "print(os.path.exists(label_file))\n",
        "\n",
        "print(os.listdir(train_dir))\n",
        "print(os.listdir(valid_dir))"
      ],
      "execution_count": null,
      "outputs": []
    },
    {
      "cell_type": "code",
      "source": [
        "!nvidia-smi"
      ],
      "metadata": {
        "id": "2UKLMR7kRQil"
      },
      "execution_count": null,
      "outputs": []
    },
    {
      "cell_type": "code",
      "source": [
        ""
      ],
      "metadata": {
        "id": "fazjSulp7zut"
      },
      "execution_count": null,
      "outputs": []
    },
    {
      "cell_type": "code",
      "metadata": {
        "scrolled": true,
        "id": "flD-2YUrT3HP"
      },
      "source": [
        "labels = pd.read_csv(label_file, header=0)\n",
        "print(labels)"
      ],
      "execution_count": null,
      "outputs": []
    },
    {
      "cell_type": "code",
      "metadata": {
        "id": "VKUCAMLVT3HQ"
      },
      "source": [
        "height = 128\n",
        "width = 128\n",
        "channels = 3\n",
        "batch_size = 64\n",
        "num_classes = 10\n",
        "\n",
        "train_datagen = keras.preprocessing.image.ImageDataGenerator(\n",
        "    rescale = 1./255,#图片中的每个像素点都乘以1/255\n",
        "    rotation_range = 40,#把图形随机旋转一个角度，在0-40度之间\n",
        "    width_shift_range = 0.2,#位移，0-20%之间选择做偏移\n",
        "    height_shift_range = 0.2,#垂直方向位移，如果是0-1之间的数，就是比例，大于1就是像素\n",
        "    shear_range = 0.2,#剪切强度（逆时针剪切角，以度为单位）\n",
        "    zoom_range = 0.2,#缩放强度\n",
        "    horizontal_flip = True,#水平随机翻转\n",
        "    fill_mode = 'nearest',#图形放大后，有些地方需要填充，\n",
        "#  可以是“常数”，“最近”，“反射”或“环绕”之一。默认值为“最近”。输入边界之外的点将根据给定模式进行填充\n",
        ")\n",
        "#读取图片\n",
        "train_generator = train_datagen.flow_from_directory(train_dir,\n",
        "                                                    #生成图片多大\n",
        "                                                   target_size = (height, width),\n",
        "                                                    #生成的图片以多少张为一组\n",
        "                                                   batch_size = batch_size,\n",
        "                                                   seed = 7,\n",
        "                                                   shuffle = True,\n",
        "                                                    #one-hot编码后的一种模式\n",
        "                                                   class_mode = \"categorical\")\n",
        "#对验证集必须做一个值的缩放，其他的不需要做\n",
        "valid_datagen = keras.preprocessing.image.ImageDataGenerator(rescale = 1./255)\n",
        "valid_generator = valid_datagen.flow_from_directory(valid_dir,\n",
        "                                                    target_size = (height, width),\n",
        "                                                    batch_size = batch_size,\n",
        "                                                    seed = 7,\n",
        "                                                    shuffle = False,\n",
        "                                                    class_mode = \"categorical\")\n",
        "train_num = train_generator.samples\n",
        "valid_num = valid_generator.samples\n",
        "print(train_num, valid_num)"
      ],
      "execution_count": null,
      "outputs": []
    },
    {
      "cell_type": "code",
      "metadata": {
        "id": "Up24spZ1T3HR"
      },
      "source": [
        "for i in range(2):\n",
        "    x, y = train_generator.next()\n",
        "    print(x.shape, y.shape)\n",
        "    print(y)"
      ],
      "execution_count": null,
      "outputs": []
    },
    {
      "cell_type": "code",
      "metadata": {
        "id": "3dmXRLbbT3HR"
      },
      "source": [
        "model = keras.models.Sequential([\n",
        "    #第一组卷积\n",
        "    keras.layers.Conv2D(filters=32, kernel_size=3, padding='same',\n",
        "                        activation='relu', input_shape=[width, height, channels]),\n",
        "    keras.layers.Conv2D(filters=32, kernel_size=3, padding='same',\n",
        "                        activation='relu'),\n",
        "    keras.layers.MaxPool2D(pool_size=2),\n",
        "    #第二组翻倍\n",
        "    keras.layers.Conv2D(filters=64, kernel_size=3, padding='same',\n",
        "                        activation='relu'),\n",
        "    keras.layers.Conv2D(filters=64, kernel_size=3, padding='same',\n",
        "                        activation='relu'),\n",
        "    keras.layers.MaxPool2D(pool_size=2),\n",
        "    #第三组再翻倍\n",
        "    keras.layers.Conv2D(filters=128, kernel_size=3, padding='same',\n",
        "                        activation='relu'),\n",
        "    keras.layers.Conv2D(filters=128, kernel_size=3, padding='same',\n",
        "                        activation='relu'),\n",
        "    keras.layers.MaxPool2D(pool_size=2),\n",
        "    keras.layers.Flatten(),\n",
        "    #展平后，和全连接层做连接\n",
        "    keras.layers.Dense(128, activation='relu'),\n",
        "    keras.layers.Dense(num_classes, activation='softmax'),\n",
        "])\n",
        "\n",
        "model.compile(loss=\"categorical_crossentropy\",\n",
        "              optimizer=\"adam\", metrics=['accuracy'])\n",
        "model.summary()"
      ],
      "execution_count": null,
      "outputs": []
    },
    {
      "cell_type": "code",
      "metadata": {
        "id": "9IJQTHxuT3HS"
      },
      "source": [
        "len(model.layers)"
      ],
      "execution_count": null,
      "outputs": []
    },
    {
      "cell_type": "code",
      "metadata": {
        "id": "ULwJ-VQCT3HT"
      },
      "source": [
        "epochs = 400\n",
        "#如果机器性能好，可以把epochs改为300\n",
        "history = model.fit_generator(train_generator,\n",
        "                              #显试指定\n",
        "                              steps_per_epoch = train_num // batch_size,\n",
        "                              epochs = epochs,\n",
        "                              validation_data = valid_generator,\n",
        "                              validation_steps = valid_num // batch_size)"
      ],
      "execution_count": null,
      "outputs": []
    },
    {
      "cell_type": "code",
      "metadata": {
        "id": "UbVNKrXlT3HU"
      },
      "source": [
        "def plot_learning_curves(history, label, epcohs, min_value, max_value):\n",
        "    data = {}\n",
        "    data[label] = history.history[label]\n",
        "    data['val_'+label] = history.history['val_'+label]\n",
        "    pd.DataFrame(data).plot(figsize=(8, 5))\n",
        "    plt.grid(True)\n",
        "    plt.axis([0, epochs, min_value, max_value])\n",
        "    plt.show()\n",
        "#因为accuracy的值和loss值的范围很不一样，因此我们打印两条曲线\n",
        "plot_learning_curves(history, 'accuracy', epochs, 0, 1)\n",
        "plot_learning_curves(history, 'loss', epochs, 1.5, 2.5)"
      ],
      "execution_count": null,
      "outputs": []
    },
    {
      "cell_type": "code",
      "metadata": {
        "id": "lusLYR0uT3HV"
      },
      "source": [
        ""
      ],
      "execution_count": null,
      "outputs": []
    }
  ]
}